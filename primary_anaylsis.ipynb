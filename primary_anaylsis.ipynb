{
 "cells": [
  {
   "cell_type": "code",
   "execution_count": 17,
   "metadata": {
    "collapsed": true
   },
   "outputs": [
    {
     "name": "stdout",
     "output_type": "stream",
     "text": [
      "30.727272727272727 5.624621199366553 ['Egypt' 'Germany']\n"
     ]
    }
   ],
   "source": [
    "import pandas as pd\n",
    "import numpy as np\n",
    "import statistics\n",
    "\n",
    "# Functions definition\n",
    "def outlier_treatment(datacolumn):\n",
    " datacolumnC = datacolumn\n",
    " sorted(datacolumn)\n",
    " Q1,Q3 = np.percentile(datacolumn , [25,75])\n",
    " IQR = Q3-Q1\n",
    " lower_range = Q1-(1.5 * IQR)\n",
    " upper_range = Q3 + (1.5 * IQR)\n",
    " datacolumn = [item for item in datacolumn if not (item > upper_range or item < lower_range)]\n",
    " datacolumnC = [0 if (item > upper_range or item < lower_range) else item for item in datacolumnC ]\n",
    " average_val = statistics.mean(datacolumnC)\n",
    " datacolumnC = [average_val if (item == 0) else item for item in datacolumnC ]\n",
    " #print('variance after replacing outliers with mean', np.var(datacolumn))\n",
    " return datacolumnC\n",
    "\n",
    "# read file\n",
    "df = pd.read_csv(\"data/results_3_Aug_20.csv\")\n",
    "\n",
    "#---------filter by -------\n",
    "# the ones who completed the questionnaire: reached page 11\n",
    "df = df[df.lastpage == 11]\n",
    "#print(len(df.index))\n",
    "# filter out the outliers of time\n",
    "filtered_time_range = outlier_treatment(df.interviewtime)\n",
    "df = df[df['interviewtime'].isin(filtered_time_range)]\n",
    "\n",
    "\n",
    "#-------Find demograohics ------\n",
    "age_mean = statistics.mean(df.Q1)\n",
    "age_std = statistics.stdev(df.Q1)\n",
    "nationalities = df.Q2.unique()\n",
    "\n",
    "print(age_mean, age_std, nationalities)\n"
   ]
  }
 ],
 "metadata": {
  "kernelspec": {
   "display_name": "Python 3",
   "language": "python",
   "name": "python3"
  },
  "language_info": {
   "codemirror_mode": {
    "name": "ipython",
    "version": 2
   },
   "file_extension": ".py",
   "mimetype": "text/x-python",
   "name": "python",
   "nbconvert_exporter": "python",
   "pygments_lexer": "ipython2",
   "version": "2.7.6"
  }
 },
 "nbformat": 4,
 "nbformat_minor": 0
}